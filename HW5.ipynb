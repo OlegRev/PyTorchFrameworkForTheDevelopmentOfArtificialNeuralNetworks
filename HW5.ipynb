{
 "cells": [
  {
   "cell_type": "markdown",
   "id": "676a102c-fa55-4dd4-aeb2-d3a1c91319af",
   "metadata": {},
   "source": [
    "Добрый день!\n",
    "Задание по итогам пятого вебинара.\n",
    "\n",
    "\n",
    "    1. Необходимо скачать и подготовить датасет https://www.kaggle.com/olekslu/makeup-lips-segmentation-28k-samples/notebooks для обучения модели на сегментацию губ (обратите внимание, что сегментация подразумевает уже два класса: фон и губы).\n",
    "    \n",
    "    2. И затем обучить Модель на выбор из segmentation_models_pytorch\n",
    "    \n",
    "    3. *(Усложненное задание) Переделайте архитектуру декодера Unet так, как в этой работе https://www.ics.uci.edu/~haoyum3/papers/slides_icivc.pdf. Эта тема пересекается с темой о второго вебинара о LSTM-сетях. И попробуйте обучить получившуюся нейронную сеть."
   ]
  },
  {
   "cell_type": "code",
   "execution_count": null,
   "id": "3e2c7c67-9048-471c-9448-75edfdee1888",
   "metadata": {},
   "outputs": [],
   "source": []
  }
 ],
 "metadata": {
  "kernelspec": {
   "display_name": "Python 3",
   "language": "python",
   "name": "python3"
  },
  "language_info": {
   "codemirror_mode": {
    "name": "ipython",
    "version": 3
   },
   "file_extension": ".py",
   "mimetype": "text/x-python",
   "name": "python",
   "nbconvert_exporter": "python",
   "pygments_lexer": "ipython3",
   "version": "3.9.7"
  }
 },
 "nbformat": 4,
 "nbformat_minor": 5
}
