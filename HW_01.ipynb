{
 "cells": [
  {
   "cell_type": "code",
   "execution_count": 1,
   "metadata": {},
   "outputs": [],
   "source": [
    "import torch\n",
    "import numpy\n",
    "from torch.autograd import Variable\n",
    "from torch import nn, optim"
   ]
  },
  {
   "cell_type": "code",
   "execution_count": 2,
   "metadata": {},
   "outputs": [],
   "source": [
    "def print_tens_info(tensor):\n",
    "    print(\"X :\\n%s\\n\" % tensor)\n",
    "    print(\"X количество измерений:\\n%s\\n\" % tensor.dim())\n",
    "    print(\"X размеры : \",  tensor.size())\n",
    "    print(\"X тип : %s\\n\" % (tensor.type()))"
   ]
  },
  {
   "cell_type": "code",
   "execution_count": 3,
   "metadata": {},
   "outputs": [],
   "source": [
    "# Создайте случайный FloatTensor размера 3x4x5"
   ]
  },
  {
   "cell_type": "code",
   "execution_count": 4,
   "metadata": {},
   "outputs": [],
   "source": [
    "float_tensor = torch.randn([3, 4, 5], dtype=torch.float32)"
   ]
  },
  {
   "cell_type": "code",
   "execution_count": 5,
   "metadata": {},
   "outputs": [
    {
     "name": "stdout",
     "output_type": "stream",
     "text": [
      "X :\n",
      "tensor([[[ 1.0616, -0.7342, -0.1813, -0.8149,  0.1908],\n",
      "         [-0.8918,  0.0335, -0.2314, -1.1038,  0.9501],\n",
      "         [-0.1919,  0.9367, -0.2431, -0.5796, -0.1525],\n",
      "         [ 0.3327, -1.4845, -0.5393, -0.6685, -1.0334]],\n",
      "\n",
      "        [[-0.0606,  0.5138, -0.3707,  0.3148, -0.7273],\n",
      "         [ 0.2801, -0.1472,  0.5114,  1.3711, -1.0277],\n",
      "         [-0.5207, -0.0032, -0.0509,  1.4697, -0.3172],\n",
      "         [ 0.4646, -0.7165, -1.2748, -1.0761, -0.2809]],\n",
      "\n",
      "        [[ 0.7573,  1.2063,  0.8737,  2.9353, -0.2775],\n",
      "         [ 1.5269, -0.8775, -0.7122,  1.1541,  1.3620],\n",
      "         [-0.3093,  0.9470,  1.1246,  0.9050, -0.6075],\n",
      "         [-0.6063, -2.0386,  0.4704,  0.5640, -0.0363]]])\n",
      "\n",
      "X количество измерений:\n",
      "3\n",
      "\n",
      "X размеры :  torch.Size([3, 4, 5])\n",
      "X тип : torch.FloatTensor\n",
      "\n"
     ]
    }
   ],
   "source": [
    "print_tens_info(float_tensor)"
   ]
  },
  {
   "cell_type": "code",
   "execution_count": 6,
   "metadata": {},
   "outputs": [],
   "source": [
    "# Выведите его форму (shape)"
   ]
  },
  {
   "cell_type": "code",
   "execution_count": 7,
   "metadata": {},
   "outputs": [
    {
     "data": {
      "text/plain": [
       "torch.Size([3, 4, 5])"
      ]
     },
     "execution_count": 7,
     "metadata": {},
     "output_type": "execute_result"
    }
   ],
   "source": [
    "float_tensor.shape"
   ]
  },
  {
   "cell_type": "code",
   "execution_count": 8,
   "metadata": {},
   "outputs": [],
   "source": [
    "# Приведите его к форме 6 X 10"
   ]
  },
  {
   "cell_type": "code",
   "execution_count": 9,
   "metadata": {},
   "outputs": [
    {
     "name": "stdout",
     "output_type": "stream",
     "text": [
      "X :\n",
      "tensor([[ 1.0616, -0.7342, -0.1813, -0.8149,  0.1908, -0.8918,  0.0335, -0.2314,\n",
      "         -1.1038,  0.9501],\n",
      "        [-0.1919,  0.9367, -0.2431, -0.5796, -0.1525,  0.3327, -1.4845, -0.5393,\n",
      "         -0.6685, -1.0334],\n",
      "        [-0.0606,  0.5138, -0.3707,  0.3148, -0.7273,  0.2801, -0.1472,  0.5114,\n",
      "          1.3711, -1.0277],\n",
      "        [-0.5207, -0.0032, -0.0509,  1.4697, -0.3172,  0.4646, -0.7165, -1.2748,\n",
      "         -1.0761, -0.2809],\n",
      "        [ 0.7573,  1.2063,  0.8737,  2.9353, -0.2775,  1.5269, -0.8775, -0.7122,\n",
      "          1.1541,  1.3620],\n",
      "        [-0.3093,  0.9470,  1.1246,  0.9050, -0.6075, -0.6063, -2.0386,  0.4704,\n",
      "          0.5640, -0.0363]])\n",
      "\n",
      "X количество измерений:\n",
      "2\n",
      "\n",
      "X размеры :  torch.Size([6, 10])\n",
      "X тип : torch.FloatTensor\n",
      "\n"
     ]
    },
    {
     "data": {
      "text/plain": [
       "tensor([[ 1.0616, -0.7342, -0.1813, -0.8149,  0.1908, -0.8918,  0.0335, -0.2314,\n",
       "         -1.1038,  0.9501],\n",
       "        [-0.1919,  0.9367, -0.2431, -0.5796, -0.1525,  0.3327, -1.4845, -0.5393,\n",
       "         -0.6685, -1.0334],\n",
       "        [-0.0606,  0.5138, -0.3707,  0.3148, -0.7273,  0.2801, -0.1472,  0.5114,\n",
       "          1.3711, -1.0277],\n",
       "        [-0.5207, -0.0032, -0.0509,  1.4697, -0.3172,  0.4646, -0.7165, -1.2748,\n",
       "         -1.0761, -0.2809],\n",
       "        [ 0.7573,  1.2063,  0.8737,  2.9353, -0.2775,  1.5269, -0.8775, -0.7122,\n",
       "          1.1541,  1.3620],\n",
       "        [-0.3093,  0.9470,  1.1246,  0.9050, -0.6075, -0.6063, -2.0386,  0.4704,\n",
       "          0.5640, -0.0363]])"
      ]
     },
     "execution_count": 9,
     "metadata": {},
     "output_type": "execute_result"
    }
   ],
   "source": [
    "print_tens_info(float_tensor.view(6,10))\n",
    "float_tensor_reshape = float_tensor.view(6,10)\n",
    "float_tensor_reshape"
   ]
  },
  {
   "cell_type": "code",
   "execution_count": 10,
   "metadata": {},
   "outputs": [],
   "source": [
    "# Умножьте его на вектор [1, 4, 2, 2, 1] поэлементно"
   ]
  },
  {
   "cell_type": "code",
   "execution_count": 11,
   "metadata": {},
   "outputs": [
    {
     "data": {
      "text/plain": [
       "tensor([[[ 1.0616, -2.9367, -0.3627, -1.6299,  0.1908],\n",
       "         [-0.8918,  0.1339, -0.4627, -2.2076,  0.9501],\n",
       "         [-0.1919,  3.7469, -0.4862, -1.1592, -0.1525],\n",
       "         [ 0.3327, -5.9379, -1.0786, -1.3371, -1.0334]],\n",
       "\n",
       "        [[-0.0606,  2.0553, -0.7414,  0.6297, -0.7273],\n",
       "         [ 0.2801, -0.5889,  1.0228,  2.7423, -1.0277],\n",
       "         [-0.5207, -0.0130, -0.1019,  2.9395, -0.3172],\n",
       "         [ 0.4646, -2.8658, -2.5496, -2.1523, -0.2809]],\n",
       "\n",
       "        [[ 0.7573,  4.8252,  1.7474,  5.8705, -0.2775],\n",
       "         [ 1.5269, -3.5098, -1.4245,  2.3082,  1.3620],\n",
       "         [-0.3093,  3.7880,  2.2492,  1.8100, -0.6075],\n",
       "         [-0.6063, -8.1543,  0.9408,  1.1279, -0.0363]]])"
      ]
     },
     "execution_count": 11,
     "metadata": {},
     "output_type": "execute_result"
    }
   ],
   "source": [
    "_vec =  [1, 4, 2, 2, 1]\n",
    "tensor2 = torch.FloatTensor(_vec)\n",
    "float_tensor*tensor2"
   ]
  },
  {
   "cell_type": "code",
   "execution_count": 12,
   "metadata": {},
   "outputs": [
    {
     "data": {
      "text/plain": [
       "tensor([[ 1.0616, -2.9367, -0.3627, -1.6299,  0.1908, -0.8918,  0.1339, -0.4627,\n",
       "         -2.2076,  0.9501],\n",
       "        [-0.1919,  3.7469, -0.4862, -1.1592, -0.1525,  0.3327, -5.9379, -1.0786,\n",
       "         -1.3371, -1.0334],\n",
       "        [-0.0606,  2.0553, -0.7414,  0.6297, -0.7273,  0.2801, -0.5889,  1.0228,\n",
       "          2.7423, -1.0277],\n",
       "        [-0.5207, -0.0130, -0.1019,  2.9395, -0.3172,  0.4646, -2.8658, -2.5496,\n",
       "         -2.1523, -0.2809],\n",
       "        [ 0.7573,  4.8252,  1.7474,  5.8705, -0.2775,  1.5269, -3.5098, -1.4245,\n",
       "          2.3082,  1.3620],\n",
       "        [-0.3093,  3.7880,  2.2492,  1.8100, -0.6075, -0.6063, -8.1543,  0.9408,\n",
       "          1.1279, -0.0363]])"
      ]
     },
     "execution_count": 12,
     "metadata": {},
     "output_type": "execute_result"
    }
   ],
   "source": [
    "_vec1 =  [1, 4, 2, 2, 1, 1, 4, 2, 2, 1,]\n",
    "tensor3 = torch.FloatTensor(_vec1)\n",
    "float_tensor_reshape* tensor3"
   ]
  },
  {
   "cell_type": "code",
   "execution_count": 13,
   "metadata": {},
   "outputs": [],
   "source": [
    "# Умножьте тензор матрично на себя, чтобы результат был размерности 6x6"
   ]
  },
  {
   "cell_type": "code",
   "execution_count": 14,
   "metadata": {},
   "outputs": [
    {
     "name": "stdout",
     "output_type": "stream",
     "text": [
      "X :\n",
      "tensor([[ 5.3705, -0.8696, -3.6326, -1.0218, -3.8913, -2.3743],\n",
      "        [-0.8696,  5.4525,  0.6927,  2.2211, -0.8711,  2.4725],\n",
      "        [-3.6326,  0.6927,  4.3310, -0.8610,  1.7513,  1.9966],\n",
      "        [-1.0218,  2.2211, -0.8610,  6.1257,  4.5809,  1.6060],\n",
      "        [-3.8913, -0.8711,  1.7513,  4.5809, 18.2801,  5.8449],\n",
      "        [-2.3743,  2.4725,  1.9966,  1.6060,  5.8449,  8.5094]])\n",
      "\n",
      "X количество измерений:\n",
      "2\n",
      "\n",
      "X размеры :  torch.Size([6, 6])\n",
      "X тип : torch.FloatTensor\n",
      "\n"
     ]
    },
    {
     "data": {
      "text/plain": [
       "tensor([[ 5.3705, -0.8696, -3.6326, -1.0218, -3.8913, -2.3743],\n",
       "        [-0.8696,  5.4525,  0.6927,  2.2211, -0.8711,  2.4725],\n",
       "        [-3.6326,  0.6927,  4.3310, -0.8610,  1.7513,  1.9966],\n",
       "        [-1.0218,  2.2211, -0.8610,  6.1257,  4.5809,  1.6060],\n",
       "        [-3.8913, -0.8711,  1.7513,  4.5809, 18.2801,  5.8449],\n",
       "        [-2.3743,  2.4725,  1.9966,  1.6060,  5.8449,  8.5094]])"
      ]
     },
     "execution_count": 14,
     "metadata": {},
     "output_type": "execute_result"
    }
   ],
   "source": [
    "print_tens_info(torch.matmul(float_tensor_reshape, float_tensor_reshape.T))\n",
    "torch.matmul(float_tensor_reshape, float_tensor_reshape.T)"
   ]
  },
  {
   "cell_type": "code",
   "execution_count": 15,
   "metadata": {},
   "outputs": [],
   "source": [
    "# Посчитайте производную функции y = x**3 + z - 75t в точке (1, 0.5, 2)"
   ]
  },
  {
   "cell_type": "code",
   "execution_count": 16,
   "metadata": {},
   "outputs": [],
   "source": [
    "def get_derivative_func(coordinates:list = [1, 0.5, 2]):\n",
    "    \"\"\"производные функции y = x**3 + z - 75t в точке (1, 0.5, 2)\n",
    "    вывод: [производная по x, z, t]\"\"\"\n",
    "    \n",
    "    x = Variable(torch.ones(1)*coordinates[0], requires_grad = True)\n",
    "    z = Variable(torch.ones(1)*coordinates[1], requires_grad = True)\n",
    "    t = Variable(torch.ones(1)*coordinates[2], requires_grad = True)\n",
    "\n",
    "    y = x**3 + z - 75*t\n",
    "    y.backward(torch.ones(1))\n",
    "    \n",
    "    print(f'x.grad: {x.grad}\\nz.grad: {z.grad}\\nt.grad: {t.grad}\\n')"
   ]
  },
  {
   "cell_type": "code",
   "execution_count": 17,
   "metadata": {},
   "outputs": [
    {
     "name": "stdout",
     "output_type": "stream",
     "text": [
      "3\n",
      "x.grad: tensor([3.])\n",
      "z.grad: tensor([1.])\n",
      "t.grad: tensor([-75.])\n",
      "\n"
     ]
    }
   ],
   "source": [
    "print(3*1**2)\n",
    "get_derivative_func()"
   ]
  },
  {
   "cell_type": "code",
   "execution_count": 18,
   "metadata": {},
   "outputs": [
    {
     "name": "stdout",
     "output_type": "stream",
     "text": [
      "12\n",
      "x.grad: tensor([12.])\n",
      "z.grad: tensor([1.])\n",
      "t.grad: tensor([-75.])\n",
      "\n"
     ]
    }
   ],
   "source": [
    "print(3*2**2)\n",
    "get_derivative_func(coordinates=[2, 67, 98])"
   ]
  },
  {
   "cell_type": "code",
   "execution_count": 19,
   "metadata": {},
   "outputs": [
    {
     "name": "stdout",
     "output_type": "stream",
     "text": [
      "108\n",
      "x.grad: tensor([108.])\n",
      "z.grad: tensor([1.])\n",
      "t.grad: tensor([-75.])\n",
      "\n"
     ]
    }
   ],
   "source": [
    "print(3*6**2)\n",
    "get_derivative_func(coordinates=[6, 67, 98])"
   ]
  },
  {
   "cell_type": "code",
   "execution_count": 20,
   "metadata": {},
   "outputs": [],
   "source": [
    "# Создайте единичный тензор размера 5x6"
   ]
  },
  {
   "cell_type": "code",
   "execution_count": 21,
   "metadata": {},
   "outputs": [
    {
     "data": {
      "text/plain": [
       "tensor([[1., 1., 1., 1., 1., 1.],\n",
       "        [1., 1., 1., 1., 1., 1.],\n",
       "        [1., 1., 1., 1., 1., 1.],\n",
       "        [1., 1., 1., 1., 1., 1.],\n",
       "        [1., 1., 1., 1., 1., 1.]])"
      ]
     },
     "execution_count": 21,
     "metadata": {},
     "output_type": "execute_result"
    }
   ],
   "source": [
    "ones_tensor = torch.ones(5,6)\n",
    "ones_tensor"
   ]
  },
  {
   "cell_type": "code",
   "execution_count": 22,
   "metadata": {},
   "outputs": [],
   "source": [
    "# Переведите его в формат numpy"
   ]
  },
  {
   "cell_type": "code",
   "execution_count": 23,
   "metadata": {},
   "outputs": [
    {
     "data": {
      "text/plain": [
       "array([[1., 1., 1., 1., 1., 1.],\n",
       "       [1., 1., 1., 1., 1., 1.],\n",
       "       [1., 1., 1., 1., 1., 1.],\n",
       "       [1., 1., 1., 1., 1., 1.],\n",
       "       [1., 1., 1., 1., 1., 1.]], dtype=float32)"
      ]
     },
     "execution_count": 23,
     "metadata": {},
     "output_type": "execute_result"
    }
   ],
   "source": [
    "ones_tensor.numpy()\n"
   ]
  },
  {
   "cell_type": "code",
   "execution_count": 24,
   "metadata": {},
   "outputs": [],
   "source": [
    "# Давайте теперь пооптимизируем: возьмите функцию y = x**w1 - 2 * x**2 + 5\n",
    "# Посчитайте "
   ]
  },
  {
   "cell_type": "code",
   "execution_count": 62,
   "metadata": {},
   "outputs": [],
   "source": [
    "def get_optimization_func(coordinat_x=1):\n",
    "    \"\"\"y = x**w - 2*x**2 + 5 in coordinat_x\"\"\"\n",
    "    x = torch.ones(1)*coordinat_x\n",
    "    w = Variable(torch.ones(1), requires_grad = True)\n",
    "\n",
    "    optimizer = optim.SGD([w], lr=0.01)\n",
    "    criterion = nn.MSELoss()\n",
    "    optimizer.zero_grad()\n",
    "\n",
    "    y = x**w - 2*x**2 + 5\n",
    "    loss = criterion(y, torch.ones(1)*10)\n",
    "    print(f\"loss:\\n\\t{loss.item()}\")\n",
    "    loss.backward()\n",
    "    optimizer.step()\n",
    "    print(f\"y = x**w - 2*x**2 + 5:\\n\\t{y}\")\n",
    "    print(f\"w.grad:\\n\\t{w.grad}\")"
   ]
  },
  {
   "cell_type": "code",
   "execution_count": 63,
   "metadata": {},
   "outputs": [
    {
     "name": "stdout",
     "output_type": "stream",
     "text": [
      "loss:\n",
      "\t25.0\n",
      "y = x**w - 2*x**2 + 5:\n",
      "\ttensor([5.], grad_fn=<AddBackward0>)\n",
      "w.grad:\n",
      "\ttensor([-0.])\n",
      "==================================================================\n",
      "loss:\n",
      "\t36.0\n",
      "y = x**w - 2*x**2 + 5:\n",
      "\ttensor([4.], grad_fn=<AddBackward0>)\n",
      "w.grad:\n",
      "\ttensor([-0.])\n",
      "==================================================================\n",
      "loss:\n",
      "\t121.0\n",
      "y = x**w - 2*x**2 + 5:\n",
      "\ttensor([-1.], grad_fn=<AddBackward0>)\n",
      "w.grad:\n",
      "\ttensor([-30.4985])\n",
      "==================================================================\n",
      "loss:\n",
      "\t400.0\n",
      "y = x**w - 2*x**2 + 5:\n",
      "\ttensor([-10.], grad_fn=<AddBackward0>)\n",
      "w.grad:\n",
      "\ttensor([-131.8335])\n",
      "==================================================================\n",
      "loss:\n",
      "\t1089.0\n",
      "y = x**w - 2*x**2 + 5:\n",
      "\ttensor([-23.], grad_fn=<AddBackward0>)\n",
      "w.grad:\n",
      "\ttensor([-365.9817])\n",
      "==================================================================\n",
      "loss:\n",
      "\t2500.0\n",
      "y = x**w - 2*x**2 + 5:\n",
      "\ttensor([-40.], grad_fn=<AddBackward0>)\n",
      "w.grad:\n",
      "\ttensor([-804.7190])\n",
      "==================================================================\n",
      "loss:\n",
      "\t5041.0\n",
      "y = x**w - 2*x**2 + 5:\n",
      "\ttensor([-61.], grad_fn=<AddBackward0>)\n",
      "w.grad:\n",
      "\ttensor([-1526.5791])\n",
      "==================================================================\n",
      "loss:\n",
      "\t9216.0\n",
      "y = x**w - 2*x**2 + 5:\n",
      "\ttensor([-86.], grad_fn=<AddBackward0>)\n",
      "w.grad:\n",
      "\ttensor([-2615.3032])\n",
      "==================================================================\n",
      "loss:\n",
      "\t15625.0\n",
      "y = x**w - 2*x**2 + 5:\n",
      "\ttensor([-115.], grad_fn=<AddBackward0>)\n",
      "w.grad:\n",
      "\ttensor([-4158.8833])\n",
      "==================================================================\n",
      "loss:\n",
      "\t24964.0\n",
      "y = x**w - 2*x**2 + 5:\n",
      "\ttensor([-148.], grad_fn=<AddBackward0>)\n",
      "w.grad:\n",
      "\ttensor([-6248.9067])\n",
      "==================================================================\n"
     ]
    }
   ],
   "source": [
    "for coordiant in range(10):\n",
    "    get_optimization_func(coordinat_x=coordiant)\n",
    "    print('=='*33)"
   ]
  },
  {
   "cell_type": "code",
   "execution_count": null,
   "metadata": {},
   "outputs": [],
   "source": []
  }
 ],
 "metadata": {
  "kernelspec": {
   "display_name": "Python 3",
   "language": "python",
   "name": "python3"
  },
  "language_info": {
   "codemirror_mode": {
    "name": "ipython",
    "version": 3
   },
   "file_extension": ".py",
   "mimetype": "text/x-python",
   "name": "python",
   "nbconvert_exporter": "python",
   "pygments_lexer": "ipython3",
   "version": "3.9.7"
  }
 },
 "nbformat": 4,
 "nbformat_minor": 4
}
