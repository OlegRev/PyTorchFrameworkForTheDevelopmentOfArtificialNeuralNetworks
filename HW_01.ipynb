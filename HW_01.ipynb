{
 "cells": [
  {
   "cell_type": "code",
   "execution_count": 1,
   "metadata": {},
   "outputs": [],
   "source": [
    "import torch\n",
    "import numpy"
   ]
  },
  {
   "cell_type": "code",
   "execution_count": 2,
   "metadata": {},
   "outputs": [],
   "source": [
    "def print_tens_info(tensor):\n",
    "    print(\"X :\\n%s\\n\" % tensor)\n",
    "    print(\"X количество измерений:\\n%s\\n\" % tensor.dim())\n",
    "    print(\"X размеры : \",  tensor.size())\n",
    "    print(\"X тип : %s\\n\" % (tensor.type()))"
   ]
  },
  {
   "cell_type": "code",
   "execution_count": 3,
   "metadata": {},
   "outputs": [],
   "source": [
    "# Создайте случайный FloatTensor размера 3x4x5"
   ]
  },
  {
   "cell_type": "code",
   "execution_count": 4,
   "metadata": {},
   "outputs": [],
   "source": [
    "float_tensor = torch.randn([3, 4, 5], dtype=torch.float32)"
   ]
  },
  {
   "cell_type": "code",
   "execution_count": 5,
   "metadata": {},
   "outputs": [
    {
     "name": "stdout",
     "output_type": "stream",
     "text": [
      "X :\n",
      "tensor([[[ 1.1213, -1.9208, -0.7840,  0.7654, -0.6889],\n",
      "         [ 2.3118,  0.2982,  1.5958, -0.9215,  1.2654],\n",
      "         [-0.3747,  1.5289, -0.2027,  0.0955,  0.0629],\n",
      "         [-0.8784,  0.8725,  0.1265,  1.6435, -0.5921]],\n",
      "\n",
      "        [[ 1.7344, -2.2482,  1.4238, -0.5325,  0.3568],\n",
      "         [ 0.0802,  1.1735,  0.3156,  1.2453,  0.9700],\n",
      "         [ 0.6401, -1.0724,  1.1040,  0.3424, -0.6004],\n",
      "         [-0.0505, -0.8985,  0.1412,  0.1595, -0.0342]],\n",
      "\n",
      "        [[-0.2772,  1.9403,  0.0135, -0.0151, -0.7687],\n",
      "         [-1.5204,  0.3419, -1.2904,  0.5402,  0.8428],\n",
      "         [ 0.9683, -0.2611,  0.8356, -0.2188, -2.5456],\n",
      "         [ 1.3059,  0.3054,  0.0193, -1.8541, -1.0466]]])\n",
      "\n",
      "X количество измерений:\n",
      "3\n",
      "\n",
      "X размеры :  torch.Size([3, 4, 5])\n",
      "X тип : torch.FloatTensor\n",
      "\n"
     ]
    }
   ],
   "source": [
    "print_tens_info(float_tensor)"
   ]
  },
  {
   "cell_type": "code",
   "execution_count": 6,
   "metadata": {},
   "outputs": [],
   "source": [
    "# Выведите его форму (shape)"
   ]
  },
  {
   "cell_type": "code",
   "execution_count": 7,
   "metadata": {},
   "outputs": [
    {
     "data": {
      "text/plain": [
       "torch.Size([3, 4, 5])"
      ]
     },
     "execution_count": 7,
     "metadata": {},
     "output_type": "execute_result"
    }
   ],
   "source": [
    "float_tensor.shape"
   ]
  },
  {
   "cell_type": "code",
   "execution_count": 8,
   "metadata": {},
   "outputs": [],
   "source": [
    "# Приведите его к форме 6 X 10"
   ]
  },
  {
   "cell_type": "code",
   "execution_count": 9,
   "metadata": {},
   "outputs": [
    {
     "name": "stdout",
     "output_type": "stream",
     "text": [
      "X :\n",
      "tensor([[ 1.1213, -1.9208, -0.7840,  0.7654, -0.6889,  2.3118,  0.2982,  1.5958,\n",
      "         -0.9215,  1.2654],\n",
      "        [-0.3747,  1.5289, -0.2027,  0.0955,  0.0629, -0.8784,  0.8725,  0.1265,\n",
      "          1.6435, -0.5921],\n",
      "        [ 1.7344, -2.2482,  1.4238, -0.5325,  0.3568,  0.0802,  1.1735,  0.3156,\n",
      "          1.2453,  0.9700],\n",
      "        [ 0.6401, -1.0724,  1.1040,  0.3424, -0.6004, -0.0505, -0.8985,  0.1412,\n",
      "          0.1595, -0.0342],\n",
      "        [-0.2772,  1.9403,  0.0135, -0.0151, -0.7687, -1.5204,  0.3419, -1.2904,\n",
      "          0.5402,  0.8428],\n",
      "        [ 0.9683, -0.2611,  0.8356, -0.2188, -2.5456,  1.3059,  0.3054,  0.0193,\n",
      "         -1.8541, -1.0466]])\n",
      "\n",
      "X количество измерений:\n",
      "2\n",
      "\n",
      "X размеры :  torch.Size([6, 10])\n",
      "X тип : torch.FloatTensor\n",
      "\n"
     ]
    }
   ],
   "source": [
    "print_tens_info(float_tensor.view(6,10))\n",
    "float_tensor_reshape = float_tensor.view(6,10)\n"
   ]
  },
  {
   "cell_type": "code",
   "execution_count": 10,
   "metadata": {},
   "outputs": [],
   "source": [
    "# Умножьте его на вектор [1, 4, 2, 2, 1] поэлементно"
   ]
  },
  {
   "cell_type": "code",
   "execution_count": 11,
   "metadata": {},
   "outputs": [
    {
     "data": {
      "text/plain": [
       "tensor([[-7.2882,  6.1187,  5.5895,  5.5594],\n",
       "        [-5.1193,  8.8660, -1.3570, -3.0776],\n",
       "        [ 6.7120, -0.8104, -1.3882, -2.1884]])"
      ]
     },
     "execution_count": 11,
     "metadata": {},
     "output_type": "execute_result"
    }
   ],
   "source": [
    "_vec =  [1, 4, 2, 2, 1]\n",
    "tensor2 = torch.FloatTensor(_vec)\n",
    "torch.matmul(float_tensor, tensor2)"
   ]
  },
  {
   "cell_type": "code",
   "execution_count": 12,
   "metadata": {},
   "outputs": [
    {
     "data": {
      "text/plain": [
       "tensor([-1.1695, 11.1490,  3.7467, -4.4347,  5.9016, -3.5767])"
      ]
     },
     "execution_count": 12,
     "metadata": {},
     "output_type": "execute_result"
    }
   ],
   "source": [
    "_vec1 =  [1, 4, 2, 2, 1, 1, 4, 2, 2, 1,]\n",
    "tensor3 = torch.FloatTensor(_vec1)\n",
    "torch.matmul(float_tensor_reshape, tensor3)"
   ]
  },
  {
   "cell_type": "code",
   "execution_count": 13,
   "metadata": {},
   "outputs": [],
   "source": [
    "# Умножьте тензор матрично на себя, чтобы результат был размерности 6x6"
   ]
  },
  {
   "cell_type": "code",
   "execution_count": 14,
   "metadata": {},
   "outputs": [
    {
     "name": "stdout",
     "output_type": "stream",
     "text": [
      "X :\n",
      "tensor([[17.0526, -7.0008,  5.6126,  2.2381, -8.4339,  6.0435],\n",
      "        [-7.0008,  7.1328, -1.9385, -2.5476,  4.8773, -4.4181],\n",
      "        [ 5.6126, -1.9385, 14.4755,  3.8479, -3.7278, -0.1903],\n",
      "        [ 2.2381, -2.5476,  3.8479,  4.1128, -2.1422,  2.6783],\n",
      "        [-8.4339,  4.8773, -3.7278, -2.1422,  9.5285, -2.5935],\n",
      "        [ 6.0435, -4.4181, -0.1903,  2.6783, -2.5935, 14.5638]])\n",
      "\n",
      "X количество измерений:\n",
      "2\n",
      "\n",
      "X размеры :  torch.Size([6, 6])\n",
      "X тип : torch.FloatTensor\n",
      "\n"
     ]
    },
    {
     "data": {
      "text/plain": [
       "tensor([[17.0526, -7.0008,  5.6126,  2.2381, -8.4339,  6.0435],\n",
       "        [-7.0008,  7.1328, -1.9385, -2.5476,  4.8773, -4.4181],\n",
       "        [ 5.6126, -1.9385, 14.4755,  3.8479, -3.7278, -0.1903],\n",
       "        [ 2.2381, -2.5476,  3.8479,  4.1128, -2.1422,  2.6783],\n",
       "        [-8.4339,  4.8773, -3.7278, -2.1422,  9.5285, -2.5935],\n",
       "        [ 6.0435, -4.4181, -0.1903,  2.6783, -2.5935, 14.5638]])"
      ]
     },
     "execution_count": 14,
     "metadata": {},
     "output_type": "execute_result"
    }
   ],
   "source": [
    "print_tens_info(torch.matmul(float_tensor_reshape, float_tensor_reshape.T))\n",
    "torch.matmul(float_tensor_reshape, float_tensor_reshape.T)"
   ]
  },
  {
   "cell_type": "code",
   "execution_count": 15,
   "metadata": {},
   "outputs": [],
   "source": [
    "# Посчитайте производную функции y = x**3 + z - 75t в точке (1, 0.5, 2)"
   ]
  },
  {
   "cell_type": "code",
   "execution_count": 16,
   "metadata": {},
   "outputs": [
    {
     "data": {
      "text/plain": [
       "tensor([2., 2., 2.])"
      ]
     },
     "execution_count": 16,
     "metadata": {},
     "output_type": "execute_result"
    }
   ],
   "source": [
    "torch.ones(3)*2"
   ]
  },
  {
   "cell_type": "code",
   "execution_count": 17,
   "metadata": {},
   "outputs": [],
   "source": [
    "from torch.autograd import Variable\n",
    "x0 = Variable(torch.ones(3), requires_grad = True)\n",
    "z0 = Variable(torch.ones(3), requires_grad = True)\n",
    "t0 = Variable(torch.ones(3), requires_grad = True)\n",
    "\n",
    "x1 = Variable(torch.ones(3)*0.5, requires_grad = True)\n",
    "z1 = Variable(torch.ones(3)*0.5, requires_grad = True)\n",
    "t1 = Variable(torch.ones(3)*0.5, requires_grad = True)\n",
    "\n",
    "x2 = Variable(torch.ones(3)*2, requires_grad = True)\n",
    "z2 = Variable(torch.ones(3)*2, requires_grad = True)\n",
    "t2 = Variable(torch.ones(3)*2, requires_grad = True)\n",
    "\n",
    "\n",
    "x = Variable(torch.ones(3), requires_grad = True)\n",
    "z = Variable(torch.ones(3)*0.5, requires_grad = True)\n",
    "t = Variable(torch.ones(3)*2, requires_grad = True)"
   ]
  },
  {
   "cell_type": "code",
   "execution_count": 18,
   "metadata": {},
   "outputs": [],
   "source": [
    "y0 = x0**3 + z0 - 75*t0\n",
    "y1 = x1**3 + z1 - 75*t1\n",
    "y2 = x2**3 + z2 - 75*t2\n",
    "\n",
    "\n",
    "y = x**3 + z - 75*t"
   ]
  },
  {
   "cell_type": "code",
   "execution_count": 19,
   "metadata": {},
   "outputs": [
    {
     "name": "stdout",
     "output_type": "stream",
     "text": [
      "X :\n",
      "tensor([-73., -73., -73.], grad_fn=<SubBackward0>)\n",
      "\n",
      "X количество измерений:\n",
      "1\n",
      "\n",
      "X размеры :  torch.Size([3])\n",
      "X тип : torch.FloatTensor\n",
      "\n",
      "X :\n",
      "tensor([-36.8750, -36.8750, -36.8750], grad_fn=<SubBackward0>)\n",
      "\n",
      "X количество измерений:\n",
      "1\n",
      "\n",
      "X размеры :  torch.Size([3])\n",
      "X тип : torch.FloatTensor\n",
      "\n",
      "X :\n",
      "tensor([-140., -140., -140.], grad_fn=<SubBackward0>)\n",
      "\n",
      "X количество измерений:\n",
      "1\n",
      "\n",
      "X размеры :  torch.Size([3])\n",
      "X тип : torch.FloatTensor\n",
      "\n",
      "X :\n",
      "tensor([-148.5000, -148.5000, -148.5000], grad_fn=<SubBackward0>)\n",
      "\n",
      "X количество измерений:\n",
      "1\n",
      "\n",
      "X размеры :  torch.Size([3])\n",
      "X тип : torch.FloatTensor\n",
      "\n"
     ]
    }
   ],
   "source": [
    "print_tens_info(y0)\n",
    "print_tens_info(y1)\n",
    "print_tens_info(y2)\n",
    "\n",
    "print_tens_info(y)"
   ]
  },
  {
   "cell_type": "code",
   "execution_count": 20,
   "metadata": {},
   "outputs": [
    {
     "name": "stdout",
     "output_type": "stream",
     "text": [
      "tensor([3., 3., 3.])\n",
      "tensor([1., 1., 1.])\n",
      "tensor([-75., -75., -75.])\n"
     ]
    }
   ],
   "source": [
    "y0.backward(torch.ones(3))\n",
    "print(x0.grad)\n",
    "print(z0.grad)\n",
    "print(t0.grad)"
   ]
  },
  {
   "cell_type": "code",
   "execution_count": 21,
   "metadata": {},
   "outputs": [
    {
     "name": "stdout",
     "output_type": "stream",
     "text": [
      "tensor([0.3750, 0.3750, 0.3750])\n",
      "tensor([0.5000, 0.5000, 0.5000])\n",
      "tensor([-37.5000, -37.5000, -37.5000])\n"
     ]
    }
   ],
   "source": [
    "y1.backward(torch.ones(3)*.5)\n",
    "print(x1.grad)\n",
    "print(z1.grad)\n",
    "print(t1.grad)"
   ]
  },
  {
   "cell_type": "code",
   "execution_count": 22,
   "metadata": {},
   "outputs": [
    {
     "name": "stdout",
     "output_type": "stream",
     "text": [
      "tensor([24., 24., 24.])\n",
      "tensor([2., 2., 2.])\n",
      "tensor([-150., -150., -150.])\n"
     ]
    }
   ],
   "source": [
    "y2.backward(torch.ones(3)*2)\n",
    "print(x2.grad)\n",
    "print(z2.grad)\n",
    "print(t2.grad)"
   ]
  },
  {
   "cell_type": "code",
   "execution_count": 23,
   "metadata": {},
   "outputs": [
    {
     "name": "stdout",
     "output_type": "stream",
     "text": [
      "tensor([3., 3., 3.])\n",
      "tensor([1., 1., 1.])\n",
      "tensor([-75., -75., -75.])\n"
     ]
    }
   ],
   "source": [
    "y.backward(torch.ones(3))\n",
    "print(x.grad)\n",
    "print(z.grad)\n",
    "print(t.grad)"
   ]
  },
  {
   "cell_type": "code",
   "execution_count": 24,
   "metadata": {},
   "outputs": [],
   "source": [
    "# Создайте единичный тензор размера 5x6"
   ]
  },
  {
   "cell_type": "code",
   "execution_count": 25,
   "metadata": {},
   "outputs": [
    {
     "data": {
      "text/plain": [
       "tensor([[1., 1., 1., 1., 1., 1.],\n",
       "        [1., 1., 1., 1., 1., 1.],\n",
       "        [1., 1., 1., 1., 1., 1.],\n",
       "        [1., 1., 1., 1., 1., 1.],\n",
       "        [1., 1., 1., 1., 1., 1.]])"
      ]
     },
     "execution_count": 25,
     "metadata": {},
     "output_type": "execute_result"
    }
   ],
   "source": [
    "ones_tensor = torch.ones(5,6)\n",
    "ones_tensor"
   ]
  },
  {
   "cell_type": "code",
   "execution_count": 26,
   "metadata": {},
   "outputs": [],
   "source": [
    "# Переведите его в формат numpy"
   ]
  },
  {
   "cell_type": "code",
   "execution_count": 27,
   "metadata": {},
   "outputs": [
    {
     "data": {
      "text/plain": [
       "array([[1., 1., 1., 1., 1., 1.],\n",
       "       [1., 1., 1., 1., 1., 1.],\n",
       "       [1., 1., 1., 1., 1., 1.],\n",
       "       [1., 1., 1., 1., 1., 1.],\n",
       "       [1., 1., 1., 1., 1., 1.]], dtype=float32)"
      ]
     },
     "execution_count": 27,
     "metadata": {},
     "output_type": "execute_result"
    }
   ],
   "source": [
    "ones_tensor.numpy()\n"
   ]
  },
  {
   "cell_type": "code",
   "execution_count": 28,
   "metadata": {},
   "outputs": [],
   "source": [
    "# Давайте теперь пооптимизируем: возьмите функцию y = x**w1 - 2 * x**2 + 5\n",
    "# Посчитайте "
   ]
  },
  {
   "cell_type": "code",
   "execution_count": null,
   "metadata": {},
   "outputs": [],
   "source": []
  }
 ],
 "metadata": {
  "kernelspec": {
   "display_name": "Python 3",
   "language": "python",
   "name": "python3"
  },
  "language_info": {
   "codemirror_mode": {
    "name": "ipython",
    "version": 3
   },
   "file_extension": ".py",
   "mimetype": "text/x-python",
   "name": "python",
   "nbconvert_exporter": "python",
   "pygments_lexer": "ipython3",
   "version": "3.9.7"
  }
 },
 "nbformat": 4,
 "nbformat_minor": 4
}
